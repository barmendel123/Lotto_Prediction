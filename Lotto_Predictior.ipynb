{
  "cells": [
    {
      "cell_type": "code",
      "execution_count": 12,
      "metadata": {
        "colab": {
          "base_uri": "https://localhost:8080/"
        },
        "id": "1bnnlN40pasT",
        "outputId": "3c84b725-3b5b-4316-8b43-3a1c4574b01f"
      },
      "outputs": [
        {
          "output_type": "stream",
          "name": "stdout",
          "text": [
            "01. The most likely set of numbers is: [20, 26, 30, 34, 36, 3]\n",
            "02. The most likely set of numbers is: [18, 24, 27, 31, 33, 3]\n",
            "03. The most likely set of numbers is: [20, 26, 30, 33, 36, 4]\n",
            "04. The most likely set of numbers is: [19, 26, 29, 32, 35, 4]\n",
            "05. The most likely set of numbers is: [19, 24, 27, 31, 34, 3]\n",
            "06. The most likely set of numbers is: [19, 26, 30, 34, 36, 4]\n",
            "07. The most likely set of numbers is: [20, 25, 29, 33, 35, 3]\n",
            "08. The most likely set of numbers is: [19, 25, 29, 32, 35, 4]\n",
            "09. The most likely set of numbers is: [18, 23, 27, 30, 32, 4]\n",
            "10. The most likely set of numbers is: [20, 23, 27, 31, 33, 4]\n"
          ]
        }
      ],
      "source": [
        "import pandas as pd\n",
        "from sklearn.ensemble import RandomForestRegressor\n",
        "from random import randint\n",
        "\n",
        "i = 0\n",
        "while i < 10: \n",
        "    # Load the data from Excel file\n",
        "    data = pd.read_excel(\"previous_Num_Israeli.xlsx\")\n",
        "\n",
        "    # Split the data into features (X) and target (y)\n",
        "    X = data[['1st_number', '2nd_number', '3rd_number', '4th_number', '5th_number', '6th_number']]\n",
        "    y = data.iloc[:, 1:]\n",
        "\n",
        "    # Train a Random Forest Regression model\n",
        "    model = RandomForestRegressor(n_estimators=1000, random_state=None)\n",
        "    model.fit(X, y)\n",
        "\n",
        "    # Generate a new set of random features for prediction\n",
        "    new_data = pd.DataFrame({\n",
        "        \"1st_number\": [randint(1, 38) for _ in range(100)],\n",
        "        \"2nd_number\": [randint(1, 38) for _ in range(100)],\n",
        "        \"3rd_number\": [randint(1, 38) for _ in range(100)],\n",
        "        \"4th_number\": [randint(1, 38) for _ in range(100)],\n",
        "        \"5th_number\": [randint(1, 38) for _ in range(100)],\n",
        "        \"6th_number\": [randint(1, 8) for _ in range(100)],\n",
        "    })\n",
        "\n",
        "    # Use the trained model to predict the next 6 numbers for each set of features\n",
        "    predictions = model.predict(new_data)\n",
        "\n",
        "    # Get the most likely set of numbers based on the predictions\n",
        "    most_likely_set = predictions[0]\n",
        "    for p in predictions:\n",
        "        if p[0] > most_likely_set[0]:\n",
        "            most_likely_set = p\n",
        "\n",
        "    # Convert most_likely_set to whole numbers\n",
        "    rounded_most_likely_set = [round(x) for x in most_likely_set]\n",
        "\n",
        "    # Print the most likely set of numbers\n",
        "    print(str(f\"{i+1:02d}\") + \". The most likely set of numbers is:\", rounded_most_likely_set)\n",
        "    i += 1\n"
      ]
    }
  ],
  "metadata": {
    "colab": {
      "provenance": []
    },
    "kernelspec": {
      "display_name": "Python 3",
      "name": "python3"
    },
    "language_info": {
      "name": "python"
    }
  },
  "nbformat": 4,
  "nbformat_minor": 0
}